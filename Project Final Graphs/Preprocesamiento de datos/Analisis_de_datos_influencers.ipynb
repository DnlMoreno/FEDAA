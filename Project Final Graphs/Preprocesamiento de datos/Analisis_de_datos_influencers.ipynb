{
 "cells": [
  {
   "cell_type": "code",
   "execution_count": 9,
   "metadata": {},
   "outputs": [],
   "source": [
    "import pandas as pd"
   ]
  },
  {
   "cell_type": "code",
   "execution_count": 10,
   "metadata": {},
   "outputs": [],
   "source": [
    "analisis_influencers = pd.read_csv(\"twitter_connections_update.csv\", sep = \";\")"
   ]
  },
  {
   "cell_type": "code",
   "execution_count": 11,
   "metadata": {},
   "outputs": [
    {
     "data": {
      "text/html": [
       "<div>\n",
       "<style scoped>\n",
       "    .dataframe tbody tr th:only-of-type {\n",
       "        vertical-align: middle;\n",
       "    }\n",
       "\n",
       "    .dataframe tbody tr th {\n",
       "        vertical-align: top;\n",
       "    }\n",
       "\n",
       "    .dataframe thead th {\n",
       "        text-align: right;\n",
       "    }\n",
       "</style>\n",
       "<table border=\"1\" class=\"dataframe\">\n",
       "  <thead>\n",
       "    <tr style=\"text-align: right;\">\n",
       "      <th></th>\n",
       "      <th>followee</th>\n",
       "      <th>follower</th>\n",
       "    </tr>\n",
       "  </thead>\n",
       "  <tbody>\n",
       "    <tr>\n",
       "      <th>0</th>\n",
       "      <td>Cooperativa</td>\n",
       "      <td>Lucas46613336</td>\n",
       "    </tr>\n",
       "    <tr>\n",
       "      <th>1</th>\n",
       "      <td>Cooperativa</td>\n",
       "      <td>Walter06506495</td>\n",
       "    </tr>\n",
       "    <tr>\n",
       "      <th>2</th>\n",
       "      <td>Cooperativa</td>\n",
       "      <td>FabianO89073630</td>\n",
       "    </tr>\n",
       "    <tr>\n",
       "      <th>3</th>\n",
       "      <td>Cooperativa</td>\n",
       "      <td>Verdatagiando</td>\n",
       "    </tr>\n",
       "    <tr>\n",
       "      <th>4</th>\n",
       "      <td>Cooperativa</td>\n",
       "      <td>pantruquera</td>\n",
       "    </tr>\n",
       "    <tr>\n",
       "      <th>...</th>\n",
       "      <td>...</td>\n",
       "      <td>...</td>\n",
       "    </tr>\n",
       "    <tr>\n",
       "      <th>83067</th>\n",
       "      <td>mendygaete</td>\n",
       "      <td>indignadobiobio</td>\n",
       "    </tr>\n",
       "    <tr>\n",
       "      <th>83068</th>\n",
       "      <td>mendygaete</td>\n",
       "      <td>ManuRiosG</td>\n",
       "    </tr>\n",
       "    <tr>\n",
       "      <th>83069</th>\n",
       "      <td>indignadobiobio</td>\n",
       "      <td>ManuRiosG</td>\n",
       "    </tr>\n",
       "    <tr>\n",
       "      <th>83070</th>\n",
       "      <td>ManuRiosG</td>\n",
       "      <td>OctavaBioBio</td>\n",
       "    </tr>\n",
       "    <tr>\n",
       "      <th>83071</th>\n",
       "      <td>ManuRiosG</td>\n",
       "      <td>HMomberg</td>\n",
       "    </tr>\n",
       "  </tbody>\n",
       "</table>\n",
       "<p>83072 rows × 2 columns</p>\n",
       "</div>"
      ],
      "text/plain": [
       "              followee         follower\n",
       "0          Cooperativa    Lucas46613336\n",
       "1          Cooperativa   Walter06506495\n",
       "2          Cooperativa  FabianO89073630\n",
       "3          Cooperativa    Verdatagiando\n",
       "4          Cooperativa      pantruquera\n",
       "...                ...              ...\n",
       "83067       mendygaete  indignadobiobio\n",
       "83068       mendygaete        ManuRiosG\n",
       "83069  indignadobiobio        ManuRiosG\n",
       "83070        ManuRiosG     OctavaBioBio\n",
       "83071        ManuRiosG         HMomberg\n",
       "\n",
       "[83072 rows x 2 columns]"
      ]
     },
     "execution_count": 11,
     "metadata": {},
     "output_type": "execute_result"
    }
   ],
   "source": [
    "analisis_influencers"
   ]
  },
  {
   "cell_type": "code",
   "execution_count": 22,
   "metadata": {},
   "outputs": [
    {
     "data": {
      "text/plain": [
       "Index(['follower'], dtype='object')"
      ]
     },
     "execution_count": 22,
     "metadata": {},
     "output_type": "execute_result"
    }
   ],
   "source": [
    "freq = analisis_influencers.groupby(['followee']).count()\n",
    "freq.columns"
   ]
  },
  {
   "cell_type": "code",
   "execution_count": 21,
   "metadata": {},
   "outputs": [
    {
     "data": {
      "text/plain": [
       "followee\n",
       "00O0O0O0OO187      1\n",
       "01101100Cat      100\n",
       "013DCSY            2\n",
       "019Pab             1\n",
       "021Klhau           1\n",
       "                ... \n",
       "zunigacamila       1\n",
       "zurdo_gato         1\n",
       "zvisheena          1\n",
       "zwefthelx          1\n",
       "zzrockk            1\n",
       "Name: follower, Length: 22389, dtype: int64"
      ]
     },
     "execution_count": 21,
     "metadata": {},
     "output_type": "execute_result"
    }
   ],
   "source": [
    "freq['follower']"
   ]
  },
  {
   "cell_type": "code",
   "execution_count": 32,
   "metadata": {},
   "outputs": [
    {
     "data": {
      "text/html": [
       "<div>\n",
       "<style scoped>\n",
       "    .dataframe tbody tr th:only-of-type {\n",
       "        vertical-align: middle;\n",
       "    }\n",
       "\n",
       "    .dataframe tbody tr th {\n",
       "        vertical-align: top;\n",
       "    }\n",
       "\n",
       "    .dataframe thead th {\n",
       "        text-align: right;\n",
       "    }\n",
       "</style>\n",
       "<table border=\"1\" class=\"dataframe\">\n",
       "  <thead>\n",
       "    <tr style=\"text-align: right;\">\n",
       "      <th></th>\n",
       "      <th>follower</th>\n",
       "    </tr>\n",
       "    <tr>\n",
       "      <th>followee</th>\n",
       "      <th></th>\n",
       "    </tr>\n",
       "  </thead>\n",
       "  <tbody>\n",
       "    <tr>\n",
       "      <th>Cooperativa</th>\n",
       "      <td>1000</td>\n",
       "    </tr>\n",
       "    <tr>\n",
       "      <th>soyvaldiviacl</th>\n",
       "      <td>1000</td>\n",
       "    </tr>\n",
       "    <tr>\n",
       "      <th>elmostrador</th>\n",
       "      <td>1000</td>\n",
       "    </tr>\n",
       "    <tr>\n",
       "      <th>latercera</th>\n",
       "      <td>700</td>\n",
       "    </tr>\n",
       "    <tr>\n",
       "      <th>pachidiaze</th>\n",
       "      <td>104</td>\n",
       "    </tr>\n",
       "    <tr>\n",
       "      <th>...</th>\n",
       "      <td>...</td>\n",
       "    </tr>\n",
       "    <tr>\n",
       "      <th>Patrici64570776</th>\n",
       "      <td>1</td>\n",
       "    </tr>\n",
       "    <tr>\n",
       "      <th>Patrici91394585</th>\n",
       "      <td>1</td>\n",
       "    </tr>\n",
       "    <tr>\n",
       "      <th>PatriciaAbalos</th>\n",
       "      <td>1</td>\n",
       "    </tr>\n",
       "    <tr>\n",
       "      <th>PatriciaAlamos1</th>\n",
       "      <td>1</td>\n",
       "    </tr>\n",
       "    <tr>\n",
       "      <th>zzrockk</th>\n",
       "      <td>1</td>\n",
       "    </tr>\n",
       "  </tbody>\n",
       "</table>\n",
       "<p>22389 rows × 1 columns</p>\n",
       "</div>"
      ],
      "text/plain": [
       "                 follower\n",
       "followee                 \n",
       "Cooperativa          1000\n",
       "soyvaldiviacl        1000\n",
       "elmostrador          1000\n",
       "latercera             700\n",
       "pachidiaze            104\n",
       "...                   ...\n",
       "Patrici64570776         1\n",
       "Patrici91394585         1\n",
       "PatriciaAbalos          1\n",
       "PatriciaAlamos1         1\n",
       "zzrockk                 1\n",
       "\n",
       "[22389 rows x 1 columns]"
      ]
     },
     "execution_count": 32,
     "metadata": {},
     "output_type": "execute_result"
    }
   ],
   "source": [
    "influencers = freq.sort_values('follower',ascending=False)\n",
    "influencers"
   ]
  },
  {
   "cell_type": "code",
   "execution_count": 38,
   "metadata": {},
   "outputs": [
    {
     "name": "stdout",
     "output_type": "stream",
     "text": [
      "Cantidad de usuarios con mas de 50 seguidores: 403\n",
      "Cantidad de usuarios con mas de 60 seguidores: 377\n",
      "Cantidad de usuarios con mas de 70 seguidores: 348\n",
      "Cantidad de usuarios con mas de 80 seguidores: 329\n",
      "Cantidad de usuarios con mas de 90 seguidores: 304\n",
      "Cantidad de usuarios con mas de 100 seguidores: 294\n"
     ]
    }
   ],
   "source": [
    "tramo0 = 0\n",
    "tramo1 = 0\n",
    "tramo2 = 0\n",
    "tramo3 = 0\n",
    "tramo4 = 0\n",
    "tramo5 = 0\n",
    "\n",
    "\n",
    "for i in range(5000):\n",
    "    if influencers['follower'].iloc[i] >= 50:\n",
    "        tramo0 += 1\n",
    "    if influencers['follower'].iloc[i] >= 60:\n",
    "        tramo1 += 1\n",
    "    if influencers['follower'].iloc[i] >= 70:\n",
    "        tramo2 += 1\n",
    "    if influencers['follower'].iloc[i] >= 80:\n",
    "        tramo3 += 1\n",
    "    if influencers['follower'].iloc[i] >= 90:\n",
    "        tramo4 += 1\n",
    "    if influencers['follower'].iloc[i] >= 100:\n",
    "        tramo5 += 1\n",
    "        \n",
    "print(f\"Cantidad de usuarios con mas de 50 seguidores: {tramo0 - 4}\")\n",
    "print(f\"Cantidad de usuarios con mas de 60 seguidores: {tramo1 - 4}\")\n",
    "print(f\"Cantidad de usuarios con mas de 70 seguidores: {tramo2 - 4}\")\n",
    "print(f\"Cantidad de usuarios con mas de 80 seguidores: {tramo3 - 4}\")\n",
    "print(f\"Cantidad de usuarios con mas de 90 seguidores: {tramo4 - 4}\")\n",
    "print(f\"Cantidad de usuarios con mas de 100 seguidores: {tramo5 - 4}\")"
   ]
  }
 ],
 "metadata": {
  "kernelspec": {
   "display_name": "Python 3",
   "language": "python",
   "name": "python3"
  },
  "language_info": {
   "codemirror_mode": {
    "name": "ipython",
    "version": 3
   },
   "file_extension": ".py",
   "mimetype": "text/x-python",
   "name": "python",
   "nbconvert_exporter": "python",
   "pygments_lexer": "ipython3",
   "version": "3.8.5"
  }
 },
 "nbformat": 4,
 "nbformat_minor": 4
}
