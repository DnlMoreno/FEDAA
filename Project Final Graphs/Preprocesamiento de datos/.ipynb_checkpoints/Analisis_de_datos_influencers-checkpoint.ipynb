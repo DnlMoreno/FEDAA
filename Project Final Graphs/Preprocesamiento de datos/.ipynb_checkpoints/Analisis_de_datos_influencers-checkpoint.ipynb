{
 "cells": [
  {
   "cell_type": "code",
   "execution_count": 1,
   "metadata": {},
   "outputs": [],
   "source": [
    "import pandas as pd"
   ]
  },
  {
   "cell_type": "code",
   "execution_count": 2,
   "metadata": {},
   "outputs": [],
   "source": [
    "test = pd.read_csv(\"twitter_connections.csv\", sep = \";\")"
   ]
  },
  {
   "cell_type": "code",
   "execution_count": 3,
   "metadata": {},
   "outputs": [
    {
     "data": {
      "text/html": [
       "<div>\n",
       "<style scoped>\n",
       "    .dataframe tbody tr th:only-of-type {\n",
       "        vertical-align: middle;\n",
       "    }\n",
       "\n",
       "    .dataframe tbody tr th {\n",
       "        vertical-align: top;\n",
       "    }\n",
       "\n",
       "    .dataframe thead th {\n",
       "        text-align: right;\n",
       "    }\n",
       "</style>\n",
       "<table border=\"1\" class=\"dataframe\">\n",
       "  <thead>\n",
       "    <tr style=\"text-align: right;\">\n",
       "      <th></th>\n",
       "      <th>followee</th>\n",
       "      <th>follower</th>\n",
       "    </tr>\n",
       "  </thead>\n",
       "  <tbody>\n",
       "    <tr>\n",
       "      <th>0</th>\n",
       "      <td>Cooperativa</td>\n",
       "      <td>Lucas46613336</td>\n",
       "    </tr>\n",
       "    <tr>\n",
       "      <th>1</th>\n",
       "      <td>Cooperativa</td>\n",
       "      <td>Walter06506495</td>\n",
       "    </tr>\n",
       "    <tr>\n",
       "      <th>2</th>\n",
       "      <td>Cooperativa</td>\n",
       "      <td>FabianO89073630</td>\n",
       "    </tr>\n",
       "    <tr>\n",
       "      <th>3</th>\n",
       "      <td>Cooperativa</td>\n",
       "      <td>Verdatagiando</td>\n",
       "    </tr>\n",
       "    <tr>\n",
       "      <th>4</th>\n",
       "      <td>Cooperativa</td>\n",
       "      <td>pantruquera</td>\n",
       "    </tr>\n",
       "    <tr>\n",
       "      <th>...</th>\n",
       "      <td>...</td>\n",
       "      <td>...</td>\n",
       "    </tr>\n",
       "    <tr>\n",
       "      <th>83067</th>\n",
       "      <td>mendygaete</td>\n",
       "      <td>indignadobiobio</td>\n",
       "    </tr>\n",
       "    <tr>\n",
       "      <th>83068</th>\n",
       "      <td>mendygaete</td>\n",
       "      <td>ManuRiosG</td>\n",
       "    </tr>\n",
       "    <tr>\n",
       "      <th>83069</th>\n",
       "      <td>indignadobiobio</td>\n",
       "      <td>ManuRiosG</td>\n",
       "    </tr>\n",
       "    <tr>\n",
       "      <th>83070</th>\n",
       "      <td>ManuRiosG</td>\n",
       "      <td>OctavaBioBio</td>\n",
       "    </tr>\n",
       "    <tr>\n",
       "      <th>83071</th>\n",
       "      <td>ManuRiosG</td>\n",
       "      <td>HMomberg</td>\n",
       "    </tr>\n",
       "  </tbody>\n",
       "</table>\n",
       "<p>83072 rows × 2 columns</p>\n",
       "</div>"
      ],
      "text/plain": [
       "              followee         follower\n",
       "0          Cooperativa    Lucas46613336\n",
       "1          Cooperativa   Walter06506495\n",
       "2          Cooperativa  FabianO89073630\n",
       "3          Cooperativa    Verdatagiando\n",
       "4          Cooperativa      pantruquera\n",
       "...                ...              ...\n",
       "83067       mendygaete  indignadobiobio\n",
       "83068       mendygaete        ManuRiosG\n",
       "83069  indignadobiobio        ManuRiosG\n",
       "83070        ManuRiosG     OctavaBioBio\n",
       "83071        ManuRiosG         HMomberg\n",
       "\n",
       "[83072 rows x 2 columns]"
      ]
     },
     "execution_count": 3,
     "metadata": {},
     "output_type": "execute_result"
    }
   ],
   "source": [
    "test"
   ]
  },
  {
   "cell_type": "code",
   "execution_count": null,
   "metadata": {},
   "outputs": [],
   "source": []
  }
 ],
 "metadata": {
  "kernelspec": {
   "display_name": "Python 3",
   "language": "python",
   "name": "python3"
  },
  "language_info": {
   "codemirror_mode": {
    "name": "ipython",
    "version": 3
   },
   "file_extension": ".py",
   "mimetype": "text/x-python",
   "name": "python",
   "nbconvert_exporter": "python",
   "pygments_lexer": "ipython3",
   "version": "3.8.5"
  }
 },
 "nbformat": 4,
 "nbformat_minor": 4
}
