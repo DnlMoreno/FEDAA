{
 "cells": [
  {
   "cell_type": "markdown",
   "metadata": {},
   "source": [
    "# Preprocesamiento valores repetidos"
   ]
  },
  {
   "cell_type": "code",
   "execution_count": 41,
   "metadata": {},
   "outputs": [],
   "source": [
    "import pandas as pd"
   ]
  },
  {
   "cell_type": "code",
   "execution_count": 42,
   "metadata": {},
   "outputs": [],
   "source": [
    "universities = pd.read_csv('C:/Users/Asus/Documents/Daniel/Importantes/Universidad Ramos/6to Año/Magister 1° Semestre/Fundamentos de Estructuras de Datos y Algoritmos/Parte 3 del curso/Tarea 3/universities_followers_2021.csv/Data structures/universities_followers_2021.csv', sep = ';')"
   ]
  },
  {
   "cell_type": "code",
   "execution_count": 43,
   "metadata": {},
   "outputs": [
    {
     "data": {
      "text/plain": [
       "Index(['university', 'user_id', 'user_name', 'number_tweets', 'friends_count',\n",
       "       'followers_count', 'created_at'],\n",
       "      dtype='object')"
      ]
     },
     "execution_count": 43,
     "metadata": {},
     "output_type": "execute_result"
    }
   ],
   "source": [
    "universities.columns"
   ]
  },
  {
   "cell_type": "code",
   "execution_count": 44,
   "metadata": {},
   "outputs": [
    {
     "data": {
      "text/plain": [
       "29245"
      ]
     },
     "execution_count": 44,
     "metadata": {},
     "output_type": "execute_result"
    }
   ],
   "source": [
    "len(universities)"
   ]
  },
  {
   "cell_type": "code",
   "execution_count": 47,
   "metadata": {},
   "outputs": [
    {
     "data": {
      "text/plain": [
       "26101"
      ]
     },
     "execution_count": 47,
     "metadata": {},
     "output_type": "execute_result"
    }
   ],
   "source": [
    "conjunto = set(universities['user_id'])\n",
    "len(conjunto)"
   ]
  },
  {
   "cell_type": "code",
   "execution_count": 33,
   "metadata": {},
   "outputs": [
    {
     "data": {
      "text/plain": [
       "0        False\n",
       "1        False\n",
       "2        False\n",
       "3        False\n",
       "4        False\n",
       "         ...  \n",
       "29240    False\n",
       "29241    False\n",
       "29242    False\n",
       "29243    False\n",
       "29244    False\n",
       "Length: 29245, dtype: bool"
      ]
     },
     "execution_count": 33,
     "metadata": {},
     "output_type": "execute_result"
    }
   ],
   "source": [
    "universities.duplicated(subset=['user_id'])"
   ]
  },
  {
   "cell_type": "code",
   "execution_count": 34,
   "metadata": {},
   "outputs": [
    {
     "data": {
      "text/plain": [
       "3144"
      ]
     },
     "execution_count": 34,
     "metadata": {},
     "output_type": "execute_result"
    }
   ],
   "source": [
    "valores_repetidos = 0\n",
    "duplicados = universities.duplicated(subset=['user_id'], keep='first')\n",
    "\n",
    "for i in range(len(universities)):\n",
    "    if duplicados.iloc[i] == True:\n",
    "        valores_repetidos += 1\n",
    "        \n",
    "valores_repetidos"
   ]
  },
  {
   "cell_type": "markdown",
   "metadata": {},
   "source": [
    "## Eliminación de los valores duplicados"
   ]
  },
  {
   "cell_type": "code",
   "execution_count": 36,
   "metadata": {},
   "outputs": [
    {
     "data": {
      "text/plain": [
       "26101"
      ]
     },
     "execution_count": 36,
     "metadata": {},
     "output_type": "execute_result"
    }
   ],
   "source": [
    "# Se deja la primera ocurrencia de los valores en la bbdd, las otras se eliminan\n",
    "\n",
    "universities_sin_duplicados = universities.drop_duplicates(subset=['user_id'], keep='first')\n",
    "len(universities_sin_duplicados)"
   ]
  },
  {
   "cell_type": "code",
   "execution_count": 40,
   "metadata": {},
   "outputs": [
    {
     "data": {
      "text/plain": [
       "0"
      ]
     },
     "execution_count": 40,
     "metadata": {},
     "output_type": "execute_result"
    }
   ],
   "source": [
    "### Comprobación de si quedaban registros duplicados en la columna user_name, luego de haber eleminado los repetidos de la columna user_id\n",
    "valores_repetidos = 0\n",
    "duplicados = universities_sin_duplicados.duplicated(subset=['user_name'], keep='first')\n",
    "\n",
    "for i in range(len(universities_sin_duplicados)):\n",
    "    if duplicados.iloc[i] == True:\n",
    "        valores_repetidos += 1\n",
    "        \n",
    "valores_repetidos"
   ]
  },
  {
   "cell_type": "code",
   "execution_count": 38,
   "metadata": {},
   "outputs": [],
   "source": [
    "universities_sin_duplicados.to_csv('C:/Users/Asus/Documents/Daniel/Importantes/Universidad Ramos/6to Año/Magister 1° Semestre/Fundamentos de Estructuras de Datos y Algoritmos/Parte 3 del curso/Tarea 3/universities_followers_2021.csv/Data structures/universities_followers_2021_v1.csv', index = False, sep = ';')"
   ]
  }
 ],
 "metadata": {
  "kernelspec": {
   "display_name": "Python 3",
   "language": "python",
   "name": "python3"
  },
  "language_info": {
   "codemirror_mode": {
    "name": "ipython",
    "version": 3
   },
   "file_extension": ".py",
   "mimetype": "text/x-python",
   "name": "python",
   "nbconvert_exporter": "python",
   "pygments_lexer": "ipython3",
   "version": "3.8.5"
  }
 },
 "nbformat": 4,
 "nbformat_minor": 4
}
